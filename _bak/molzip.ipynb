{
  "nbformat": 4,
  "nbformat_minor": 0,
  "metadata": {
    "colab": {
      "provenance": [],
      "authorship_tag": "ABX9TyPB7Rj+nwT8JSalZPYhIcEJ",
      "include_colab_link": true
    },
    "kernelspec": {
      "name": "python3",
      "display_name": "Python 3"
    },
    "language_info": {
      "name": "python"
    }
  },
  "cells": [
    {
      "cell_type": "markdown",
      "metadata": {
        "id": "view-in-github",
        "colab_type": "text"
      },
      "source": [
        "<a href=\"https://colab.research.google.com/github/driesvr/molzip/blob/colab/molzip.ipynb\" target=\"_parent\"><img src=\"https://colab.research.google.com/assets/colab-badge.svg\" alt=\"Open In Colab\"/></a>"
      ]
    },
    {
      "cell_type": "markdown",
      "source": [
        "# Clone repo and install dependencies"
      ],
      "metadata": {
        "id": "0JYRzpJCnEVv"
      }
    },
    {
      "cell_type": "code",
      "source": [
        "!git clone https://github.com/daenuprobst/molzip.git"
      ],
      "metadata": {
        "colab": {
          "base_uri": "https://localhost:8080/"
        },
        "id": "5JhWU-d4mrCD",
        "outputId": "fab88c97-e793-48e0-b961-d7e006cf5791"
      },
      "execution_count": 1,
      "outputs": [
        {
          "output_type": "stream",
          "name": "stdout",
          "text": [
            "Cloning into 'molzip'...\n",
            "remote: Enumerating objects: 36, done.\u001b[K\n",
            "remote: Counting objects: 100% (36/36), done.\u001b[K\n",
            "remote: Compressing objects: 100% (25/25), done.\u001b[K\n",
            "remote: Total 36 (delta 16), reused 30 (delta 11), pack-reused 0\u001b[K\n",
            "Unpacking objects: 100% (36/36), 13.23 KiB | 1.32 MiB/s, done.\n"
          ]
        }
      ]
    },
    {
      "cell_type": "code",
      "source": [
        "!pip install -r molzip/requirements.txt"
      ],
      "metadata": {
        "colab": {
          "base_uri": "https://localhost:8080/",
          "height": 1000
        },
        "id": "Axf9dm61mtJ_",
        "outputId": "aec9349d-6ace-4369-91ef-2475fce8465a"
      },
      "execution_count": 2,
      "outputs": [
        {
          "output_type": "stream",
          "name": "stdout",
          "text": [
            "Collecting pytablewriter==1.0.0 (from -r molzip/requirements.txt (line 1))\n",
            "  Downloading pytablewriter-1.0.0-py3-none-any.whl (107 kB)\n",
            "\u001b[2K     \u001b[90m━━━━━━━━━━━━━━━━━━━━━━━━━━━━━━━━━━━━━━━\u001b[0m \u001b[32m107.8/107.8 kB\u001b[0m \u001b[31m8.9 MB/s\u001b[0m eta \u001b[36m0:00:00\u001b[0m\n",
            "\u001b[?25hCollecting deepchem[torch]==2.7.1 (from -r molzip/requirements.txt (line 2))\n",
            "  Downloading deepchem-2.7.1-py3-none-any.whl (693 kB)\n",
            "\u001b[2K     \u001b[90m━━━━━━━━━━━━━━━━━━━━━━━━━━━━━━━━━━━━━━\u001b[0m \u001b[32m693.2/693.2 kB\u001b[0m \u001b[31m37.2 MB/s\u001b[0m eta \u001b[36m0:00:00\u001b[0m\n",
            "\u001b[?25hCollecting numpy==1.22.3 (from -r molzip/requirements.txt (line 3))\n",
            "  Downloading numpy-1.22.3-cp310-cp310-manylinux_2_17_x86_64.manylinux2014_x86_64.whl (16.8 MB)\n",
            "\u001b[2K     \u001b[90m━━━━━━━━━━━━━━━━━━━━━━━━━━━━━━━━━━━━━━━━\u001b[0m \u001b[32m16.8/16.8 MB\u001b[0m \u001b[31m67.5 MB/s\u001b[0m eta \u001b[36m0:00:00\u001b[0m\n",
            "\u001b[?25hCollecting selfies==2.1.1 (from -r molzip/requirements.txt (line 4))\n",
            "  Downloading selfies-2.1.1-py3-none-any.whl (35 kB)\n",
            "Collecting deepsmiles==1.0.1 (from -r molzip/requirements.txt (line 5))\n",
            "  Downloading deepsmiles-1.0.1-py2.py3-none-any.whl (12 kB)\n",
            "Collecting mhfp==1.9.6 (from -r molzip/requirements.txt (line 6))\n",
            "  Downloading mhfp-1.9.6-py3-none-any.whl (9.7 kB)\n",
            "Requirement already satisfied: setuptools>=38.3.0 in /usr/local/lib/python3.10/dist-packages (from pytablewriter==1.0.0->-r molzip/requirements.txt (line 1)) (67.7.2)\n",
            "Collecting DataProperty<2,>=0.55.0 (from pytablewriter==1.0.0->-r molzip/requirements.txt (line 1))\n",
            "  Downloading DataProperty-1.0.0-py3-none-any.whl (27 kB)\n",
            "Collecting mbstrdecoder<2,>=1.0.0 (from pytablewriter==1.0.0->-r molzip/requirements.txt (line 1))\n",
            "  Downloading mbstrdecoder-1.1.3-py3-none-any.whl (7.8 kB)\n",
            "Collecting pathvalidate<4,>=2.3.0 (from pytablewriter==1.0.0->-r molzip/requirements.txt (line 1))\n",
            "  Downloading pathvalidate-3.0.0-py3-none-any.whl (21 kB)\n",
            "Collecting tabledata<2,>=1.3.1 (from pytablewriter==1.0.0->-r molzip/requirements.txt (line 1))\n",
            "  Downloading tabledata-1.3.1-py3-none-any.whl (11 kB)\n",
            "Collecting tcolorpy<1,>=0.0.5 (from pytablewriter==1.0.0->-r molzip/requirements.txt (line 1))\n",
            "  Downloading tcolorpy-0.1.3-py3-none-any.whl (7.9 kB)\n",
            "Collecting typepy[datetime]<2,>=1.2.0 (from pytablewriter==1.0.0->-r molzip/requirements.txt (line 1))\n",
            "  Downloading typepy-1.3.1-py3-none-any.whl (31 kB)\n",
            "Requirement already satisfied: joblib in /usr/local/lib/python3.10/dist-packages (from deepchem[torch]==2.7.1->-r molzip/requirements.txt (line 2)) (1.3.1)\n",
            "Requirement already satisfied: pandas in /usr/local/lib/python3.10/dist-packages (from deepchem[torch]==2.7.1->-r molzip/requirements.txt (line 2)) (1.5.3)\n",
            "Requirement already satisfied: scikit-learn in /usr/local/lib/python3.10/dist-packages (from deepchem[torch]==2.7.1->-r molzip/requirements.txt (line 2)) (1.2.2)\n",
            "Collecting scipy<1.9 (from deepchem[torch]==2.7.1->-r molzip/requirements.txt (line 2))\n",
            "  Downloading scipy-1.8.1-cp310-cp310-manylinux_2_17_x86_64.manylinux2014_x86_64.whl (42.2 MB)\n",
            "\u001b[2K     \u001b[90m━━━━━━━━━━━━━━━━━━━━━━━━━━━━━━━━━━━━━━━━\u001b[0m \u001b[32m42.2/42.2 MB\u001b[0m \u001b[31m16.5 MB/s\u001b[0m eta \u001b[36m0:00:00\u001b[0m\n",
            "\u001b[?25hCollecting rdkit (from deepchem[torch]==2.7.1->-r molzip/requirements.txt (line 2))\n",
            "  Downloading rdkit-2023.3.2-cp310-cp310-manylinux_2_17_x86_64.manylinux2014_x86_64.whl (29.7 MB)\n",
            "\u001b[2K     \u001b[90m━━━━━━━━━━━━━━━━━━━━━━━━━━━━━━━━━━━━━━━━\u001b[0m \u001b[32m29.7/29.7 MB\u001b[0m \u001b[31m51.1 MB/s\u001b[0m eta \u001b[36m0:00:00\u001b[0m\n",
            "\u001b[?25hRequirement already satisfied: torch in /usr/local/lib/python3.10/dist-packages (from deepchem[torch]==2.7.1->-r molzip/requirements.txt (line 2)) (2.0.1+cu118)\n",
            "Requirement already satisfied: torchvision in /usr/local/lib/python3.10/dist-packages (from deepchem[torch]==2.7.1->-r molzip/requirements.txt (line 2)) (0.15.2+cu118)\n",
            "Collecting pytorch-lightning (from deepchem[torch]==2.7.1->-r molzip/requirements.txt (line 2))\n",
            "  Downloading pytorch_lightning-2.0.5-py3-none-any.whl (722 kB)\n",
            "\u001b[2K     \u001b[90m━━━━━━━━━━━━━━━━━━━━━━━━━━━━━━━━━━━━━━\u001b[0m \u001b[32m722.4/722.4 kB\u001b[0m \u001b[31m61.1 MB/s\u001b[0m eta \u001b[36m0:00:00\u001b[0m\n",
            "\u001b[?25hCollecting dgl (from deepchem[torch]==2.7.1->-r molzip/requirements.txt (line 2))\n",
            "  Downloading dgl-1.1.1-cp310-cp310-manylinux1_x86_64.whl (6.3 MB)\n",
            "\u001b[2K     \u001b[90m━━━━━━━━━━━━━━━━━━━━━━━━━━━━━━━━━━━━━━━━\u001b[0m \u001b[32m6.3/6.3 MB\u001b[0m \u001b[31m97.9 MB/s\u001b[0m eta \u001b[36m0:00:00\u001b[0m\n",
            "\u001b[?25hCollecting dgllife (from deepchem[torch]==2.7.1->-r molzip/requirements.txt (line 2))\n",
            "  Downloading dgllife-0.3.2-py3-none-any.whl (226 kB)\n",
            "\u001b[2K     \u001b[90m━━━━━━━━━━━━━━━━━━━━━━━━━━━━━━━━━━━━━━\u001b[0m \u001b[32m226.1/226.1 kB\u001b[0m \u001b[31m27.2 MB/s\u001b[0m eta \u001b[36m0:00:00\u001b[0m\n",
            "\u001b[?25hRequirement already satisfied: chardet<6,>=3.0.4 in /usr/local/lib/python3.10/dist-packages (from mbstrdecoder<2,>=1.0.0->pytablewriter==1.0.0->-r molzip/requirements.txt (line 1)) (4.0.0)\n",
            "Requirement already satisfied: python-dateutil<3.0.0,>=2.8.0 in /usr/local/lib/python3.10/dist-packages (from typepy[datetime]<2,>=1.2.0->pytablewriter==1.0.0->-r molzip/requirements.txt (line 1)) (2.8.2)\n",
            "Requirement already satisfied: pytz>=2018.9 in /usr/local/lib/python3.10/dist-packages (from typepy[datetime]<2,>=1.2.0->pytablewriter==1.0.0->-r molzip/requirements.txt (line 1)) (2022.7.1)\n",
            "Requirement already satisfied: packaging in /usr/local/lib/python3.10/dist-packages (from typepy[datetime]<2,>=1.2.0->pytablewriter==1.0.0->-r molzip/requirements.txt (line 1)) (23.1)\n",
            "Requirement already satisfied: networkx>=2.1 in /usr/local/lib/python3.10/dist-packages (from dgl->deepchem[torch]==2.7.1->-r molzip/requirements.txt (line 2)) (3.1)\n",
            "Requirement already satisfied: requests>=2.19.0 in /usr/local/lib/python3.10/dist-packages (from dgl->deepchem[torch]==2.7.1->-r molzip/requirements.txt (line 2)) (2.27.1)\n",
            "Requirement already satisfied: tqdm in /usr/local/lib/python3.10/dist-packages (from dgl->deepchem[torch]==2.7.1->-r molzip/requirements.txt (line 2)) (4.65.0)\n",
            "Requirement already satisfied: psutil>=5.8.0 in /usr/local/lib/python3.10/dist-packages (from dgl->deepchem[torch]==2.7.1->-r molzip/requirements.txt (line 2)) (5.9.5)\n",
            "Requirement already satisfied: hyperopt in /usr/local/lib/python3.10/dist-packages (from dgllife->deepchem[torch]==2.7.1->-r molzip/requirements.txt (line 2)) (0.2.7)\n",
            "Requirement already satisfied: threadpoolctl>=2.0.0 in /usr/local/lib/python3.10/dist-packages (from scikit-learn->deepchem[torch]==2.7.1->-r molzip/requirements.txt (line 2)) (3.1.0)\n",
            "Requirement already satisfied: PyYAML>=5.4 in /usr/local/lib/python3.10/dist-packages (from pytorch-lightning->deepchem[torch]==2.7.1->-r molzip/requirements.txt (line 2)) (6.0)\n",
            "Requirement already satisfied: fsspec[http]>2021.06.0 in /usr/local/lib/python3.10/dist-packages (from pytorch-lightning->deepchem[torch]==2.7.1->-r molzip/requirements.txt (line 2)) (2023.6.0)\n",
            "Collecting torchmetrics>=0.7.0 (from pytorch-lightning->deepchem[torch]==2.7.1->-r molzip/requirements.txt (line 2))\n",
            "  Downloading torchmetrics-1.0.1-py3-none-any.whl (729 kB)\n",
            "\u001b[2K     \u001b[90m━━━━━━━━━━━━━━━━━━━━━━━━━━━━━━━━━━━━━━\u001b[0m \u001b[32m729.2/729.2 kB\u001b[0m \u001b[31m54.3 MB/s\u001b[0m eta \u001b[36m0:00:00\u001b[0m\n",
            "\u001b[?25hRequirement already satisfied: typing-extensions>=4.0.0 in /usr/local/lib/python3.10/dist-packages (from pytorch-lightning->deepchem[torch]==2.7.1->-r molzip/requirements.txt (line 2)) (4.7.1)\n",
            "Collecting lightning-utilities>=0.7.0 (from pytorch-lightning->deepchem[torch]==2.7.1->-r molzip/requirements.txt (line 2))\n",
            "  Downloading lightning_utilities-0.9.0-py3-none-any.whl (23 kB)\n",
            "Requirement already satisfied: filelock in /usr/local/lib/python3.10/dist-packages (from torch->deepchem[torch]==2.7.1->-r molzip/requirements.txt (line 2)) (3.12.2)\n",
            "Requirement already satisfied: sympy in /usr/local/lib/python3.10/dist-packages (from torch->deepchem[torch]==2.7.1->-r molzip/requirements.txt (line 2)) (1.11.1)\n",
            "Requirement already satisfied: jinja2 in /usr/local/lib/python3.10/dist-packages (from torch->deepchem[torch]==2.7.1->-r molzip/requirements.txt (line 2)) (3.1.2)\n",
            "Requirement already satisfied: triton==2.0.0 in /usr/local/lib/python3.10/dist-packages (from torch->deepchem[torch]==2.7.1->-r molzip/requirements.txt (line 2)) (2.0.0)\n",
            "Requirement already satisfied: cmake in /usr/local/lib/python3.10/dist-packages (from triton==2.0.0->torch->deepchem[torch]==2.7.1->-r molzip/requirements.txt (line 2)) (3.25.2)\n",
            "Requirement already satisfied: lit in /usr/local/lib/python3.10/dist-packages (from triton==2.0.0->torch->deepchem[torch]==2.7.1->-r molzip/requirements.txt (line 2)) (16.0.6)\n",
            "Requirement already satisfied: Pillow in /usr/local/lib/python3.10/dist-packages (from rdkit->deepchem[torch]==2.7.1->-r molzip/requirements.txt (line 2)) (8.4.0)\n",
            "Requirement already satisfied: aiohttp!=4.0.0a0,!=4.0.0a1 in /usr/local/lib/python3.10/dist-packages (from fsspec[http]>2021.06.0->pytorch-lightning->deepchem[torch]==2.7.1->-r molzip/requirements.txt (line 2)) (3.8.4)\n",
            "Requirement already satisfied: six>=1.5 in /usr/local/lib/python3.10/dist-packages (from python-dateutil<3.0.0,>=2.8.0->typepy[datetime]<2,>=1.2.0->pytablewriter==1.0.0->-r molzip/requirements.txt (line 1)) (1.16.0)\n",
            "Requirement already satisfied: urllib3<1.27,>=1.21.1 in /usr/local/lib/python3.10/dist-packages (from requests>=2.19.0->dgl->deepchem[torch]==2.7.1->-r molzip/requirements.txt (line 2)) (1.26.16)\n",
            "Requirement already satisfied: certifi>=2017.4.17 in /usr/local/lib/python3.10/dist-packages (from requests>=2.19.0->dgl->deepchem[torch]==2.7.1->-r molzip/requirements.txt (line 2)) (2023.5.7)\n",
            "Requirement already satisfied: charset-normalizer~=2.0.0 in /usr/local/lib/python3.10/dist-packages (from requests>=2.19.0->dgl->deepchem[torch]==2.7.1->-r molzip/requirements.txt (line 2)) (2.0.12)\n",
            "Requirement already satisfied: idna<4,>=2.5 in /usr/local/lib/python3.10/dist-packages (from requests>=2.19.0->dgl->deepchem[torch]==2.7.1->-r molzip/requirements.txt (line 2)) (3.4)\n",
            "Requirement already satisfied: future in /usr/local/lib/python3.10/dist-packages (from hyperopt->dgllife->deepchem[torch]==2.7.1->-r molzip/requirements.txt (line 2)) (0.18.3)\n",
            "Requirement already satisfied: cloudpickle in /usr/local/lib/python3.10/dist-packages (from hyperopt->dgllife->deepchem[torch]==2.7.1->-r molzip/requirements.txt (line 2)) (2.2.1)\n",
            "Requirement already satisfied: py4j in /usr/local/lib/python3.10/dist-packages (from hyperopt->dgllife->deepchem[torch]==2.7.1->-r molzip/requirements.txt (line 2)) (0.10.9.7)\n",
            "Requirement already satisfied: MarkupSafe>=2.0 in /usr/local/lib/python3.10/dist-packages (from jinja2->torch->deepchem[torch]==2.7.1->-r molzip/requirements.txt (line 2)) (2.1.3)\n",
            "Requirement already satisfied: mpmath>=0.19 in /usr/local/lib/python3.10/dist-packages (from sympy->torch->deepchem[torch]==2.7.1->-r molzip/requirements.txt (line 2)) (1.3.0)\n",
            "Requirement already satisfied: attrs>=17.3.0 in /usr/local/lib/python3.10/dist-packages (from aiohttp!=4.0.0a0,!=4.0.0a1->fsspec[http]>2021.06.0->pytorch-lightning->deepchem[torch]==2.7.1->-r molzip/requirements.txt (line 2)) (23.1.0)\n",
            "Requirement already satisfied: multidict<7.0,>=4.5 in /usr/local/lib/python3.10/dist-packages (from aiohttp!=4.0.0a0,!=4.0.0a1->fsspec[http]>2021.06.0->pytorch-lightning->deepchem[torch]==2.7.1->-r molzip/requirements.txt (line 2)) (6.0.4)\n",
            "Requirement already satisfied: async-timeout<5.0,>=4.0.0a3 in /usr/local/lib/python3.10/dist-packages (from aiohttp!=4.0.0a0,!=4.0.0a1->fsspec[http]>2021.06.0->pytorch-lightning->deepchem[torch]==2.7.1->-r molzip/requirements.txt (line 2)) (4.0.2)\n",
            "Requirement already satisfied: yarl<2.0,>=1.0 in /usr/local/lib/python3.10/dist-packages (from aiohttp!=4.0.0a0,!=4.0.0a1->fsspec[http]>2021.06.0->pytorch-lightning->deepchem[torch]==2.7.1->-r molzip/requirements.txt (line 2)) (1.9.2)\n",
            "Requirement already satisfied: frozenlist>=1.1.1 in /usr/local/lib/python3.10/dist-packages (from aiohttp!=4.0.0a0,!=4.0.0a1->fsspec[http]>2021.06.0->pytorch-lightning->deepchem[torch]==2.7.1->-r molzip/requirements.txt (line 2)) (1.3.3)\n",
            "Requirement already satisfied: aiosignal>=1.1.2 in /usr/local/lib/python3.10/dist-packages (from aiohttp!=4.0.0a0,!=4.0.0a1->fsspec[http]>2021.06.0->pytorch-lightning->deepchem[torch]==2.7.1->-r molzip/requirements.txt (line 2)) (1.3.1)\n",
            "Installing collected packages: mhfp, deepsmiles, tcolorpy, selfies, pathvalidate, numpy, mbstrdecoder, lightning-utilities, typepy, scipy, rdkit, dgl, dgllife, deepchem, DataProperty, tabledata, pytablewriter, torchmetrics, pytorch-lightning\n",
            "  Attempting uninstall: numpy\n",
            "    Found existing installation: numpy 1.22.4\n",
            "    Uninstalling numpy-1.22.4:\n",
            "      Successfully uninstalled numpy-1.22.4\n",
            "  Attempting uninstall: scipy\n",
            "    Found existing installation: scipy 1.10.1\n",
            "    Uninstalling scipy-1.10.1:\n",
            "      Successfully uninstalled scipy-1.10.1\n",
            "Successfully installed DataProperty-1.0.0 deepchem-2.7.1 deepsmiles-1.0.1 dgl-1.1.1 dgllife-0.3.2 lightning-utilities-0.9.0 mbstrdecoder-1.1.3 mhfp-1.9.6 numpy-1.22.3 pathvalidate-3.0.0 pytablewriter-1.0.0 pytorch-lightning-2.0.5 rdkit-2023.3.2 scipy-1.8.1 selfies-2.1.1 tabledata-1.3.1 tcolorpy-0.1.3 torchmetrics-1.0.1 typepy-1.3.1\n"
          ]
        },
        {
          "output_type": "display_data",
          "data": {
            "application/vnd.colab-display-data+json": {
              "pip_warning": {
                "packages": [
                  "numpy"
                ]
              }
            }
          },
          "metadata": {}
        }
      ]
    },
    {
      "cell_type": "markdown",
      "source": [
        "# Test whether main.py runs"
      ],
      "metadata": {
        "id": "ILqlkFnLqv46"
      }
    },
    {
      "cell_type": "code",
      "source": [
        "!python molzip/main.py"
      ],
      "metadata": {
        "colab": {
          "base_uri": "https://localhost:8080/"
        },
        "id": "GV33V4J9iHce",
        "outputId": "c4122243-9df5-4d11-eb34-965a72936f24"
      },
      "execution_count": 3,
      "outputs": [
        {
          "output_type": "stream",
          "name": "stdout",
          "text": [
            "2023-07-14 23:08:40.217122: I tensorflow/core/platform/cpu_feature_guard.cc:182] This TensorFlow binary is optimized to use available CPU instructions in performance-critical operations.\n",
            "To enable the following instructions: AVX2 FMA, in other operations, rebuild TensorFlow with the appropriate compiler flags.\n",
            "2023-07-14 23:08:41.935926: W tensorflow/compiler/tf2tensorrt/utils/py_utils.cc:38] TF-TRT Warning: Could not find TensorRT\n",
            "Skipped loading modules with pytorch-geometric dependency, missing a dependency. No module named 'torch_geometric'\n",
            "Skipped loading modules with pytorch-geometric dependency, missing a dependency. cannot import name 'DMPNN' from 'deepchem.models.torch_models' (/usr/local/lib/python3.10/dist-packages/deepchem/models/torch_models/__init__.py)\n",
            "Skipped loading some Jax models, missing a dependency. No module named 'haiku'\n",
            "\n",
            "freesolv (1 tasks)\n",
            "{'dataset': 'freesolv', 'splitter': 'random', 'task': 'regression', 'k': 10, 'augment': 0, 'preprocess': True, 'sub_sample': 0.0, 'is_imbalanced': True, 'n': 4}\n",
            "Valid RMSE: 0.7511449593786809, Valid MAE: 0.3765625 , Test RMSE: 0.7342185799044607, Test MAE: 0.36923076923076925\n",
            "Traceback (most recent call last):\n",
            "  File \"/content/molzip/main.py\", line 355, in <module>\n",
            "    main()\n",
            "  File \"/content/molzip/main.py\", line 260, in main\n",
            "    benchmark(\n",
            "  File \"/content/molzip/main.py\", line 217, in benchmark\n",
            "    valid_preds = regress(X_train, y_train, X_valid, config[\"k\"])\n",
            "  File \"/content/molzip/gzip_regressor.py\", line 39, in regress\n",
            "    preds = p.map(\n",
            "  File \"/usr/lib/python3.10/multiprocessing/pool.py\", line 367, in map\n",
            "    return self._map_async(func, iterable, mapstar, chunksize).get()\n",
            "  File \"/usr/lib/python3.10/multiprocessing/pool.py\", line 768, in get\n",
            "    self.wait(timeout)\n",
            "  File \"/usr/lib/python3.10/multiprocessing/pool.py\", line 765, in wait\n",
            "    self._event.wait(timeout)\n",
            "  File \"/usr/lib/python3.10/threading.py\", line 607, in wait\n",
            "    signaled = self._cond.wait(timeout)\n",
            "  File \"/usr/lib/python3.10/threading.py\", line 320, in wait\n",
            "    waiter.acquire()\n",
            "KeyboardInterrupt\n",
            "^C\n"
          ]
        }
      ]
    },
    {
      "cell_type": "code",
      "source": [],
      "metadata": {
        "id": "VS4FMrYRihE8"
      },
      "execution_count": null,
      "outputs": []
    }
  ]
}